{
 "cells": [
  {
   "cell_type": "markdown",
   "metadata": {},
   "source": [
    "# Welcome to OpenVINO(TM) Hands-on Lab Session 3\n",
    "\n",
    "This lab contains; brief tutorials, OpenVINO(TM) sample codes to run in terminal & running `python` code inside this jupyter notebook.\n",
    "\n",
    "Jupyter notebook is a browser based IDE and allows partial code executions and text based inputs as markdown at each cell.\n",
    "\n",
    "Please follow the notations for each instruction in the following sections:\n",
    "\n",
    "- If tutorial wants you run a certain command on terminal you will see the text as below. You should open a terminal or continue on the opened one as instructed. \n",
    "\n",
    "**Commands To Run on Terminal**\n",
    "***\n",
    "```bash\n",
    "python3 \n",
    "```\n",
    "***\n",
    "\n",
    "In Ubuntu, when you copy text, easiest way to paste code with keyboard is to press:\n",
    "\n",
    "**SHIFT + INS** buttons\n",
    "\n",
    "- If there are text looks like code; it is mainly the output of an example run of a sample code, please don't copy those back into terminal. \n",
    "\n",
    "**Example Terminal Output** \n",
    "***\n",
    "``` output ```\n",
    "***\n",
    "\n",
    "- If you see python code inside the cell like below, take focus to cell by clicking to it then press:\n",
    "\n",
    "**SHIFT + ENTER** \n",
    "\n",
    "or Click on `>| Run` run button above."
   ]
  },
  {
   "cell_type": "markdown",
   "metadata": {},
   "source": [
    "# Layer Affinity"
   ]
  },
  {
   "cell_type": "markdown",
   "metadata": {},
   "source": [
    "# Performance Counters"
   ]
  },
  {
   "cell_type": "markdown",
   "metadata": {},
   "source": [
    "# Dynamic Batching"
   ]
  },
  {
   "cell_type": "markdown",
   "metadata": {},
   "source": [
    "# Custom Layers"
   ]
  },
  {
   "cell_type": "markdown",
   "metadata": {},
   "source": [
    "# INT8 "
   ]
  },
  {
   "cell_type": "markdown",
   "metadata": {},
   "source": [
    "# Thread Management"
   ]
  },
  {
   "cell_type": "code",
   "execution_count": null,
   "metadata": {},
   "outputs": [],
   "source": []
  }
 ],
 "metadata": {
  "kernelspec": {
   "display_name": "Python 3",
   "language": "python",
   "name": "python3"
  },
  "language_info": {
   "codemirror_mode": {
    "name": "ipython",
    "version": 3
   },
   "file_extension": ".py",
   "mimetype": "text/x-python",
   "name": "python",
   "nbconvert_exporter": "python",
   "pygments_lexer": "ipython3",
   "version": "3.5.2"
  }
 },
 "nbformat": 4,
 "nbformat_minor": 2
}
