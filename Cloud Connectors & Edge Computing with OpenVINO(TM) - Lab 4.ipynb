{
 "cells": [
  {
   "cell_type": "markdown",
   "metadata": {},
   "source": [
    "# Edge Computing with Intel(TM) Distribution of OpenVINO(TM)\n",
    "\n",
    "This notebook covers the instructions to setup a AWS Greengrass client and run applications utilizing computer vision and deep learning at the edge to communicate with AWS IoT Cloud.\n",
    "\n",
    "If you are using a workshop laptop, setup process is already done for you so you won't need to redo the installation & configuration steps. They are all for your reference for the further development process.\n",
    "\n",
    "All the instructions for this tutorial is intended for Ubuntu 16.04, certain instructions might change according to selected operating system or distribution."
   ]
  },
  {
   "cell_type": "markdown",
   "metadata": {},
   "source": [
    "# Edge Device Configuration\n",
    "\n",
    "Initial configuration of edge device requires complete setup of OpenVINO(TM) Toolkit.\n",
    "\n",
    "## 1 - Install OpenVINO(TM) Toolkit\n",
    "\n",
    "Follow instructions from OpenVINO(TM) Toolkit documentation https://docs.openvinotoolkit.org/latest/_docs_install_guides_installing_openvino_linux.html\n",
    "\n",
    "## 2 - Get Edge Analytics Samples\n",
    "\n",
    "```bash\n",
    "git clone https://github.com/intel/Edge-Analytics-FaaS\n",
    "git clone https://github.com/intel/Edge-optimized-models \n",
    "```\n",
    "\n",
    "## 3 - Install AWS GG Client and Prequisites\n",
    "\n",
    "```bash\n",
    "sudo apt-get install python-pip\n",
    "\n",
    "pip2 install numpy boto3 awscli opencv-python\n",
    "```"
   ]
  },
  {
   "cell_type": "markdown",
   "metadata": {},
   "source": [
    "# AWS Greengrass Core Installation & Configurations\n",
    "\n",
    "This part includes instructions to install Greengrass software and complete required configurations for secure connection to AWS IoT Cloud.\n",
    "\n",
    "Most of the instructions can be found from \n",
    "\n",
    "## 1 - Add GreenGrass Core User and User Group\n",
    "\n",
    "```bash\n",
    "sudo adduser --system ggc_user\n",
    "sudo addgroup -- system ggc_group\n",
    "```\n",
    "\n",
    "After setup, reboot your system.\n",
    "\n",
    "## 2 - Download Required Files from AWS\n",
    "\n",
    "First Download the Greengrass Service from:\n",
    "\n",
    "https://docs.aws.amazon.com/greengrass/latest/developerguide/what-is-gg.html?icmpid=docs_gg_console#gg-core-download-tab\n",
    "\n",
    "Get GreenGrass SDK, which is required to deploy Lambda functions\n",
    "\n",
    "https://github.com/aws/aws-greengrass-core-sdk-python\n",
    "\n",
    "\n",
    "## 3 - Create a group and download the certificates as indicated \n",
    "\n",
    "Follow instructions from: https://docs.aws.amazon.com/greengrass/latest/developerguide/gg-device-start.html \n",
    "\n",
    "After completing the certificate installation:\n",
    "\n",
    "```bash\n",
    "cd /greengrass/ggc/core\n",
    "\n",
    "sudo ./greengrassd start\n",
    "\n",
    "```\n",
    "\n",
    "You can navigate to Monitor section to see if you have completed the setup."
   ]
  },
  {
   "cell_type": "markdown",
   "metadata": {},
   "source": [
    "# Running Edge Device for Demo\n",
    "\n",
    "When GG is ready, you are ready to deploy your FaaS to Greengrass edge.\n",
    "\n",
    "See the instructions from: \n",
    "\n",
    "- https://github.com/intel/Edge-Analytics-FaaS\n",
    "- https://github.com/intel/Edge-optimized-models"
   ]
  },
  {
   "cell_type": "markdown",
   "metadata": {},
   "source": [
    "# Resources\n",
    "\n",
    "- OpenVINO Edge Computing Resources\n",
    "\n",
    "- https://github.com/intel/Edge-Analytics-FaaS\n",
    "- https://github.com/intel/Edge-optimized-models \n",
    "\n",
    "- AWS Greengrass Documentation\n",
    "\n",
    "- https://console.aws.amazon.com/iot/home?#/greengrassIntro"
   ]
  }
 ],
 "metadata": {
  "kernelspec": {
   "display_name": "Python 3",
   "language": "python",
   "name": "python3"
  },
  "language_info": {
   "codemirror_mode": {
    "name": "ipython",
    "version": 3
   },
   "file_extension": ".py",
   "mimetype": "text/x-python",
   "name": "python",
   "nbconvert_exporter": "python",
   "pygments_lexer": "ipython3",
   "version": "3.5.2"
  }
 },
 "nbformat": 4,
 "nbformat_minor": 2
}
