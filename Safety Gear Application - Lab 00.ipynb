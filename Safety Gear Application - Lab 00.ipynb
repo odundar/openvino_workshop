{
 "cells": [
  {
   "cell_type": "markdown",
   "metadata": {},
   "source": [
    "# Safety Gear Detection with Intel(R) Distribution of OpenVINO(TM) Toolkit"
   ]
  },
  {
   "cell_type": "markdown",
   "metadata": {},
   "source": [
    "The Safety Gear Detection Sample is another demonstration of the powerful capabilities of the Intel® Distribution of the OpenVINO™ toolkit to perform object detection. The sample presents a video frame-by-frame to the Inference Engine (IE) which subsequently uses an optimized trained neural network, mobilenet-ssd, to detect people and their safety gear. This public model is a mobilenet neural network (SSD – Single Shot MultiBox Detector framework) that has been pre-trained to detect objects in a video clip."
   ]
  },
  {
   "cell_type": "markdown",
   "metadata": {},
   "source": [
    "In this lab, we just want to run Safety Gear example to show the model we mentioned during the Deep Learning and Data presentation."
   ]
  },
  {
   "cell_type": "markdown",
   "metadata": {},
   "source": [
    "## Let's Run Safety Gear Demo"
   ]
  },
  {
   "cell_type": "markdown",
   "metadata": {},
   "source": [
    "All setup and compilations completed beforehand, if you want to know how all previous downloads, compile and model conversion run, refer to `Backup` section.\n",
    "\n",
    "Copy the command from below line, and run inside a new terminal.\n",
    "\n",
    "1. Open a new terminal with `CTRL + ALT + T`.\n",
    "\n",
    "***\n",
    "```bash\n",
    "cd /home/intel/smart-video-workshop/object-detection\n",
    "\n",
    "./tutorial1 -i /home/intel/smart-video-workshop/safety-gear-example/Safety_Full_Hat_and_Vest_2.mp4 -m /home/intel/smart-video-workshop/safety-gear-example/mobilenet-ssd/FP32/worker_safety_mobilenet.xml -d CPU\n",
    "```\n",
    "***\n",
    "\n",
    "- Your output will be like below, it will show, inference on frames.\n",
    "***\n",
    "```\n",
    "inputDims=224 224 3 1 \n",
    "outputDims=1 1 100 7 \n",
    "SSD Mode\n",
    "Preprocess: 6.63235 \tms/frame\n",
    "Inference:  10.3317 \tms/frame\n",
    "Postprocess:0.0235091 \tms/frame\n",
    "```\n",
    "***"
   ]
  },
  {
   "cell_type": "markdown",
   "metadata": {},
   "source": [
    "2. In order to see the output of inference run below command.\n",
    "\n",
    "***\n",
    "```bash\n",
    "./ROIviewer -i /home/intel/smart-video-workshop/safety-gear-example/Safety_Full_Hat_and_Vest_2.mp4 -l /home/intel/smart-video-workshop/safety-gear-example/pascal_voc_classes.txt\n",
    "```\n",
    "***\n",
    "\n",
    "It will play the short video showing detections."
   ]
  },
  {
   "cell_type": "markdown",
   "metadata": {},
   "source": [
    "## Preaparing Safety Gear Detection Application - Backup Information "
   ]
  },
  {
   "cell_type": "markdown",
   "metadata": {},
   "source": [
    "Below are terminal commands to execute on Linux terminal to prepare Safety Gear Demo.\n",
    "\n",
    "Before going into details, ensure you opened a new terminal. (`CTRL + ALT + T`)"
   ]
  },
  {
   "cell_type": "markdown",
   "metadata": {},
   "source": [
    "***\n",
    "1. Clone Smart Video Workshop Repository\n",
    "***\n",
    "\n",
    "If you already cloned the repository, you can skip this step."
   ]
  },
  {
   "cell_type": "markdown",
   "metadata": {},
   "source": [
    "***\n",
    "```bash\n",
    "cd /home/intel\n",
    "\n",
    "git clone https://github.com/intel-iot-devkit/smart-video-workshop.git\n",
    "```\n",
    "***"
   ]
  },
  {
   "cell_type": "markdown",
   "metadata": {},
   "source": [
    "2. Optimize Model using Intel(R) Distribution of OpenVINO(TM) Toolkit"
   ]
  },
  {
   "cell_type": "markdown",
   "metadata": {},
   "source": [
    "***\n",
    "```bash\n",
    "\n",
    "cd /home/intel/smart-video-workshop/safety-gear-example/\n",
    "\n",
    "mkdir -p mobilenet-ssd/FP32\n",
    "\n",
    "cd /opt/intel/openvino/deployment_tools/model_optimizer\n",
    "\n",
    "python3 mo_caffe.py --input_model /home/intel/smart-video-workshop/safety-gear-example/worker_safety_mobilenet.caffemodel -o /home/intel/smart-video-workshop/safety-gear-example/mobilenet-ssd/FP32\n",
    "\n",
    "cd /home/intel/smart-video-workshop/safety-gear-example/mobilenet-ssd/FP32\n",
    "```\n",
    "***"
   ]
  },
  {
   "cell_type": "markdown",
   "metadata": {},
   "source": [
    "3. Build Object Detection Application\n",
    "\n",
    "`tutorial1` & `ROIviewer` is generated with following commands."
   ]
  },
  {
   "cell_type": "markdown",
   "metadata": {},
   "source": [
    "```bash\n",
    "\n",
    "cd /home/intel/smart-video-workshop/object-detection/\n",
    "\n",
    "make\n",
    "\n",
    "make -f Makefile_ROIviewer\n",
    "\n",
    "```"
   ]
  },
  {
   "cell_type": "markdown",
   "metadata": {},
   "source": [
    "Now, you are ready to use above commands to run Safety Gear Demo."
   ]
  },
  {
   "cell_type": "markdown",
   "metadata": {},
   "source": [
    "### Source : https://github.com/intel-iot-devkit/smart-video-workshop/tree/master/safety-gear-example"
   ]
  }
 ],
 "metadata": {
  "kernelspec": {
   "display_name": "Python 3",
   "language": "python",
   "name": "python3"
  },
  "language_info": {
   "codemirror_mode": {
    "name": "ipython",
    "version": 3
   },
   "file_extension": ".py",
   "mimetype": "text/x-python",
   "name": "python",
   "nbconvert_exporter": "python",
   "pygments_lexer": "ipython3",
   "version": "3.5.2"
  }
 },
 "nbformat": 4,
 "nbformat_minor": 2
}
